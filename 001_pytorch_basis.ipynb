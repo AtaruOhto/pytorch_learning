{
  "nbformat": 4,
  "nbformat_minor": 0,
  "metadata": {
    "colab": {
      "name": "001_pytorch_basis.ipynb",
      "provenance": [],
      "collapsed_sections": [],
      "include_colab_link": true
    },
    "kernelspec": {
      "name": "python3",
      "display_name": "Python 3"
    }
  },
  "cells": [
    {
      "cell_type": "markdown",
      "metadata": {
        "id": "view-in-github",
        "colab_type": "text"
      },
      "source": [
        "<a href=\"https://colab.research.google.com/github/AtaruOhto/pytorch_learning/blob/master/001_pytorch_basis.ipynb\" target=\"_parent\"><img src=\"https://colab.research.google.com/assets/colab-badge.svg\" alt=\"Open In Colab\"/></a>"
      ]
    },
    {
      "cell_type": "code",
      "metadata": {
        "id": "fBsfEctSmTZN",
        "colab_type": "code",
        "colab": {}
      },
      "source": [
        "\"\"\"\n",
        "PyTorch Tensorの各種メソッド\n",
        "\"\"\"\n",
        "\n",
        "import torch\n",
        "import numpy as np"
      ],
      "execution_count": 3,
      "outputs": []
    },
    {
      "cell_type": "code",
      "metadata": {
        "id": "mnf5h7qExUWC",
        "colab_type": "code",
        "colab": {}
      },
      "source": [
        "empties = torch.empty(5,3)\n",
        "print(\"empties\", empties)"
      ],
      "execution_count": null,
      "outputs": []
    },
    {
      "cell_type": "code",
      "metadata": {
        "id": "B58QcYv9xkg6",
        "colab_type": "code",
        "colab": {
          "base_uri": "https://localhost:8080/",
          "height": 35
        },
        "outputId": "448c69b6-af4e-4af6-c8c1-020184e18d65"
      },
      "source": [
        "print(empties.size())"
      ],
      "execution_count": 22,
      "outputs": [
        {
          "output_type": "stream",
          "text": [
            "torch.Size([5, 3])\n"
          ],
          "name": "stdout"
        }
      ]
    },
    {
      "cell_type": "code",
      "metadata": {
        "id": "oeN8vzllxakj",
        "colab_type": "code",
        "colab": {}
      },
      "source": [
        "randoms = torch.rand(4, 3)\n",
        "print(\"randoms\", randoms)"
      ],
      "execution_count": null,
      "outputs": []
    },
    {
      "cell_type": "code",
      "metadata": {
        "id": "o9RqjMUNxas5",
        "colab_type": "code",
        "colab": {}
      },
      "source": [
        "longs = torch.zeros(5, 2, dtype=torch.long)\n",
        "print(\"longs\",longs)"
      ],
      "execution_count": null,
      "outputs": []
    },
    {
      "cell_type": "code",
      "metadata": {
        "id": "AeWZQTGlxaxl",
        "colab_type": "code",
        "colab": {}
      },
      "source": [
        "ts = torch.tensor([1.2, 3.3])\n",
        "print(\"ts\",ts)"
      ],
      "execution_count": null,
      "outputs": []
    },
    {
      "cell_type": "code",
      "metadata": {
        "id": "Dq4kbR1Kxa1S",
        "colab_type": "code",
        "colab": {}
      },
      "source": [
        "new_ones = torch.tensor([1, 2]).new_ones(5, 3, dtype=torch.double)\n",
        "print(\"new_ones\", new_ones)"
      ],
      "execution_count": null,
      "outputs": []
    },
    {
      "cell_type": "code",
      "metadata": {
        "id": "9Sv4beJpxa39",
        "colab_type": "code",
        "colab": {}
      },
      "source": [
        "randn_likes = torch.randn_like(torch.tensor([[1,2,3], [4,5,6]], dtype=torch.float))\n",
        "print(\"randn_like\", randn_likes)"
      ],
      "execution_count": null,
      "outputs": []
    },
    {
      "cell_type": "code",
      "metadata": {
        "id": "y3aE1uVDtyr1",
        "colab_type": "code",
        "colab": {
          "base_uri": "https://localhost:8080/",
          "height": 287
        },
        "outputId": "986a878d-dd62-4202-fa20-6aafffc975cc"
      },
      "source": [
        "x = torch.rand(5, 3)\n",
        "y = torch.rand(5, 3)\n",
        "z = torch.empty(5, 3)\n",
        "print(\"x + y = \", torch.add(x, y, out=z))\n",
        "print(z)\n",
        "y.add_(x)\n",
        "\n",
        "\n"
      ],
      "execution_count": 28,
      "outputs": [
        {
          "output_type": "stream",
          "text": [
            "x + y =  tensor([[1.1705, 0.8212, 1.3312],\n",
            "        [0.2151, 0.6536, 1.3623],\n",
            "        [0.2499, 1.4627, 1.1514],\n",
            "        [1.3153, 1.5213, 1.1296],\n",
            "        [1.4744, 1.4722, 0.3519]])\n",
            "tensor([[1.1705, 0.8212, 1.3312],\n",
            "        [0.2151, 0.6536, 1.3623],\n",
            "        [0.2499, 1.4627, 1.1514],\n",
            "        [1.3153, 1.5213, 1.1296],\n",
            "        [1.4744, 1.4722, 0.3519]])\n"
          ],
          "name": "stdout"
        },
        {
          "output_type": "execute_result",
          "data": {
            "text/plain": [
              "tensor([[1.1705, 0.8212, 1.3312],\n",
              "        [0.2151, 0.6536, 1.3623],\n",
              "        [0.2499, 1.4627, 1.1514],\n",
              "        [1.3153, 1.5213, 1.1296],\n",
              "        [1.4744, 1.4722, 0.3519]])"
            ]
          },
          "metadata": {
            "tags": []
          },
          "execution_count": 28
        }
      ]
    },
    {
      "cell_type": "code",
      "metadata": {
        "id": "LUxCr11PWLgn",
        "colab_type": "code",
        "colab": {
          "base_uri": "https://localhost:8080/",
          "height": 35
        },
        "outputId": "35f5dc88-0a43-461a-d440-146cb10bf168"
      },
      "source": [
        "# Numpy to PyTorch Tensor\n",
        "a = np.ones(5)\n",
        "b = torch.from_numpy(a)\n",
        "np.add(1, 1, out=a)\n",
        "print(a)"
      ],
      "execution_count": 4,
      "outputs": [
        {
          "output_type": "stream",
          "text": [
            "[2. 2. 2. 2. 2.]\n"
          ],
          "name": "stdout"
        }
      ]
    },
    {
      "cell_type": "code",
      "metadata": {
        "id": "q8fgqJUeWmps",
        "colab_type": "code",
        "colab": {
          "base_uri": "https://localhost:8080/",
          "height": 89
        },
        "outputId": "473cb726-99e1-4794-d13d-4c3ee07c79c4"
      },
      "source": [
        "# 自動微分 (autograd)\n",
        "\n",
        "\"\"\" \n",
        "1: PyTorchではrequire_grad=Trueにすることで、傾きをトラッキングすることができる。\n",
        "2: backward()関数で傾き (微分) を取得することができ、 grad プロパティにその値を保持する。\n",
        "3: 自動微分を停止するには detach()関数を呼び出す or requires_grad_ or with torch.no_grad() でも停止可能\n",
        "\"\"\"\n",
        "\n",
        "x = torch.ones(2, 2, requires_grad=True)\n",
        "y = x + 2 * 2\n",
        "\n",
        "print(\"yの値\", y)\n",
        "print(\"記憶している計算式\", y.grad_fn)\n",
        "print(\"自動微分が有効か?\",y.requires_grad)\n"
      ],
      "execution_count": 26,
      "outputs": [
        {
          "output_type": "stream",
          "text": [
            "yの値 tensor([[5., 5.],\n",
            "        [5., 5.]], grad_fn=<AddBackward0>)\n",
            "記憶している計算式 <AddBackward0 object at 0x7f5b200ad278>\n",
            "自動微分が有効か? True\n"
          ],
          "name": "stdout"
        }
      ]
    },
    {
      "cell_type": "code",
      "metadata": {
        "id": "ZNqKoSwQeG_Q",
        "colab_type": "code",
        "colab": {
          "base_uri": "https://localhost:8080/",
          "height": 53
        },
        "outputId": "e7aeef5e-d174-4c5b-a4c6-2f51adb1d075"
      },
      "source": [
        "x1 = torch.tensor([[5, 5], [10, 10]], dtype=float, requires_grad=True)\n",
        "x2 = x1 + 3\n",
        "x3 = x2 * 3\n",
        "x4 = x3.mean()\n",
        "\n",
        "# 微分する\n",
        "x4.backward()\n",
        "print(\"x1の微分値\", x１.grad)\n"
      ],
      "execution_count": 38,
      "outputs": [
        {
          "output_type": "stream",
          "text": [
            "x1の微分値 tensor([[0.7500, 0.7500],\n",
            "        [0.7500, 0.7500]], dtype=torch.float64)\n"
          ],
          "name": "stdout"
        }
      ]
    },
    {
      "cell_type": "code",
      "metadata": {
        "id": "O54zDMjPxPfi",
        "colab_type": "code",
        "colab": {}
      },
      "source": [
        "import torch\n",
        "\n",
        "class SampleData:\n",
        "  \"\"\"\n",
        "    データ: X, y\n",
        "    オリジナルの重み: original_weight\n",
        "    を準備する。\n",
        "  \"\"\"\n",
        "  def __init__(self):\n",
        "    # 元々の重み\n",
        "    original_weight = torch.Tensor([1, 2, 3])\n",
        "    # データ形式: torch.Size([3])\n",
        "\n",
        "    # Xのデータ準備 \n",
        "    # データ形式: torch.Size([100, 3])\n",
        "    X = torch.cat([torch.ones(100, 1), torch.randn(100, 2)], 1)\n",
        "\n",
        "    # データと重みの内積を計算する。\n",
        "    dot = torch.mv(X, original_weight)\n",
        "    \n",
        "    # 内積に乱数を足してyとする。\n",
        "    # データ形式: torch.Size([100])\n",
        "    y = dot + torch.randn(100) * 0.5    \n",
        "\n",
        "    self.X = X\n",
        "    self.y = y\n",
        "    self.original_weight = original_weight\n",
        "\n",
        "def exec_gradient_descent(weight, X, y):\n",
        "  # 学習率を0.1とする\n",
        "  eta = 0.1\n",
        "\n",
        "  # 損失関数のログ (下のループ中で誤差を格納していく)\n",
        "  losses = []\n",
        "\n",
        "  # 50回ループさせて、勾配降下法でパラメータを最適化する\n",
        "  for epoc in range(50):\n",
        "    # 前のループ中のbackward()メソッドで計算された勾配の値を削除\n",
        "    weight.grad = None\n",
        "    \n",
        "    # yの予測値を計算する\n",
        "    y_pred = torch.mv(X, weight)\n",
        "\n",
        "    # 平均二乗誤差Mean Square Error を計算 (実際の値と予測値のズレがどれだけあるかの指標のひとつ)\n",
        "    # 誤差が小さいほどモデルの性能が高い。\n",
        "    loss = torch.mean((y - y_pred) ** 2)\n",
        "\n",
        "    # 誤差逆伝播して、勾配を計算。\n",
        "    # weightのrequires_grad=Trueにしているので、自動で微分が計算される。\n",
        "    loss.backward()\n",
        "\n",
        "    # 重みを更新する。\n",
        "    weight.data = weight.data - eta * weight.grad.data\n",
        "\n",
        "    # ループの終わりにlossを格納する。誤差が小さくなっていくのを確認。\n",
        "    losses.append(loss.item())\n",
        "  return weight\n",
        "\n",
        "data = SampleData()\n",
        "\n",
        "# Tensorを乱数で初期化して、重みとする。\n",
        "# (以下でこの重みをループ中で、「実際のyと予測値y_predとの誤差を小さくするように」更新していく。)\n",
        "# requires_gradをTrueにすることで重みの自動微分を有効にする。\n",
        "# https://pytorch.org/docs/stable/notes/autograd.html#requires-grad\n",
        "weight_will_updated = torch.randn(3, requires_grad=True)\n",
        "\n",
        "# 乱数で作った重み (weight_will_updated) を更新する。\n",
        "# (Xの計算式から、yの値を正しく予測するように重みを更新する。)\n",
        "weight = exec_gradient_descent(weight_will_updated, data.X, data.y)\n",
        "\n",
        "# matplotlibで誤差 (loss) の推移を描画する。\n",
        "%matplotlib inline\n",
        "from matplotlib import pyplot as plt\n",
        "plt.plot(losses)\n",
        "\n",
        "# 元々の重みと、更新された重みの差分を見る。\n",
        "# 差分は極小になっている。\n",
        "print(torch.abs(data.original_weight - weight))"
      ],
      "execution_count": null,
      "outputs": []
    }
  ]
}