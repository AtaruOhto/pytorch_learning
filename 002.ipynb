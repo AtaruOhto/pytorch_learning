{
  "nbformat": 4,
  "nbformat_minor": 0,
  "metadata": {
    "colab": {
      "name": "002.ipynb",
      "provenance": [],
      "collapsed_sections": [],
      "authorship_tag": "ABX9TyNYtK7JXKbgok5lMkSZZqu/",
      "include_colab_link": true
    },
    "kernelspec": {
      "name": "python3",
      "display_name": "Python 3"
    }
  },
  "cells": [
    {
      "cell_type": "markdown",
      "metadata": {
        "id": "view-in-github",
        "colab_type": "text"
      },
      "source": [
        "<a href=\"https://colab.research.google.com/github/AtaruOhto/pytorch_learning/blob/master/002.ipynb\" target=\"_parent\"><img src=\"https://colab.research.google.com/assets/colab-badge.svg\" alt=\"Open In Colab\"/></a>"
      ]
    },
    {
      "cell_type": "code",
      "metadata": {
        "id": "wVWwnIJUoHiy",
        "colab_type": "code",
        "colab": {
          "base_uri": "https://localhost:8080/",
          "height": 283
        },
        "outputId": "75d53509-5989-4336-9336-2d6f0a43b0f0"
      },
      "source": [
        "\"\"\"\n",
        "PyTorchのnn, optimを利用\n",
        "\"\"\"\n",
        "\n",
        "import torch\n",
        "from torch import nn, optim\n",
        "\n",
        "class SampleData:\n",
        "  def __init__(self):\n",
        "    # データX: torch.Size([100, 3])\n",
        "    X = torch.cat([torch.ones(100,1), torch.randn(100, 2)], 1)\n",
        "    weight = torch.Tensor([5, 5, 5])\n",
        "    # 内積を撮って、操作をしてyとする\n",
        "    dot = torch.mv(X, weight)\n",
        "    y = dot + torch.randn(100) * 0.5\n",
        "\n",
        "    self.X = X\n",
        "    self.y = y\n",
        "    \n",
        "\n",
        "class LinearNetwork:\n",
        "  def __init__(self, data):\n",
        "    X = data.X\n",
        "    y = data.y\n",
        "    self.losses = []\n",
        "\n",
        "    newral_network = nn.Linear(in_features=3, out_features=1, bias=False)\n",
        "    optimizer = optim.SGD(newral_network.parameters(), lr=0.1)\n",
        "\n",
        "    # Mean Square Error 最小二条誤差\n",
        "    loss_function = nn.MSELoss()\n",
        "\n",
        "    for _ in range(20):\n",
        "      # 前回のbackward()で計算された勾配の値を削除する\n",
        "      optimizer.zero_grad()\n",
        "\n",
        "      # 線形モデルでyの予測値を計算\n",
        "      y_pred = newral_network(X)\n",
        "\n",
        "      loss = loss_function(y_pred.view(y.size()), y)\n",
        "    \n",
        "      # lossのwによる微分を計算\n",
        "      loss.backward()\n",
        "\n",
        "      # 勾配を更新する\n",
        "      optimizer.step()\n",
        "\n",
        "      # 収束確認のためにlossを記憶しておく\n",
        "      self.losses.append(loss.item())\n",
        "\n",
        "# データを準備する\n",
        "sample_data = SampleData()\n",
        "\n",
        "# ネットワークにサンプルデータを渡して、勾配を計算する。\n",
        "network = LinearNetwork(sample_data)\n",
        "\n",
        "# maptplotlibで誤差の推移をグラフ表示する。\n",
        "%matplotlib inline\n",
        "from matplotlib import pyplot as plt\n",
        "plt.plot(network.losses)\n",
        "\n",
        "\n"
      ],
      "execution_count": 43,
      "outputs": [
        {
          "output_type": "execute_result",
          "data": {
            "text/plain": [
              "[<matplotlib.lines.Line2D at 0x7f04050d1fd0>]"
            ]
          },
          "metadata": {
            "tags": []
          },
          "execution_count": 43
        },
        {
          "output_type": "display_data",
          "data": {
            "image/png": "[encoded data removed]",
            "text/plain": [
              "<Figure size 432x288 with 1 Axes>"
            ]
          },
          "metadata": {
            "tags": [],
            "needs_background": "light"
          }
        }
      ]
    }
  ]
}