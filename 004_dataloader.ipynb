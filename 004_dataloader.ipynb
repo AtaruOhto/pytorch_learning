{
  "nbformat": 4,
  "nbformat_minor": 0,
  "metadata": {
    "colab": {
      "name": "004_dataloader.ipynb",
      "provenance": [],
      "collapsed_sections": [],
      "authorship_tag": "ABX9TyOL4M5usRJV/sPK1DJ+2l/u",
      "include_colab_link": true
    },
    "kernelspec": {
      "name": "python3",
      "display_name": "Python 3"
    }
  },
  "cells": [
    {
      "cell_type": "markdown",
      "metadata": {
        "id": "view-in-github",
        "colab_type": "text"
      },
      "source": [
        "<a href=\"https://colab.research.google.com/github/AtaruOhto/pytorch_learning/blob/master/004_dataloader.ipynb\" target=\"_parent\"><img src=\"https://colab.research.google.com/assets/colab-badge.svg\" alt=\"Open In Colab\"/></a>"
      ]
    },
    {
      "cell_type": "code",
      "metadata": {
        "id": "ta2QMWa6vDyW",
        "colab_type": "code",
        "colab": {
          "base_uri": "https://localhost:8080/",
          "height": 283
        },
        "outputId": "0bc5875e-364c-4c2e-b968-bc33bfe0602f"
      },
      "source": [
        "\"\"\"\n",
        "PyTorch DataLoader, DataSet\n",
        "\n",
        "参考: https://www.shoeisha.co.jp/book/detail/9784798157184\n",
        "\"\"\"\n",
        "\n",
        "import torch\n",
        "from torch import nn, optim\n",
        "from torch.utils.data import TensorDataset, DataLoader\n",
        "from sklearn.datasets import load_digits\n",
        "\n",
        "# https://scikit-learn.org/stable/modules/generated/sklearn.datasets.load_digits.html\n",
        "# 0から9までの10個の手書き文字のデータをロードする\n",
        "digits = load_digits()\n",
        "\n",
        "X = digits.data\n",
        "y = digits.target\n",
        "\n",
        "# データ形式: torch.Size([1797, 64])\n",
        "X = torch.tensor(X, dtype=torch.float32)\n",
        "\n",
        "# データ形式: torch.Size([1797]) \n",
        "y = torch.tensor(y, dtype=torch.int64)\n",
        "\n",
        "# Datasetを作成\n",
        "data_set = TensorDataset(X, y)\n",
        "\n",
        "# すべてのデータをメモリに載せることができない場合、ミニバッチを利用する。\n",
        "# 異なる順番で64個ずつデータを返すDataLoaderを作成する\n",
        "# ミニバッチ学習やデータのシャッフル・並列計算を行うことが可能。\n",
        "loader = DataLoader(data_set, batch_size=64, shuffle=True)\n",
        "\n",
        "net = nn.Sequential(\n",
        "  nn.Linear(64, 32),\n",
        "  nn.ReLU(),\n",
        "  nn.Linear(32, 16),\n",
        "  nn.ReLU(),\n",
        "  nn.Linear(16, 10)\n",
        ")\n",
        "\n",
        "loss_function = nn.CrossEntropyLoss()\n",
        "optimizer = optim.Adam(net.parameters())\n",
        "\n",
        "losses = []\n",
        "\n",
        "for _ in range(30):\n",
        "  running_loss = 0.0\n",
        "\n",
        "  for xx, yy in loader:\n",
        "    # xxのデータ構造: torch.Size([64, 64])\n",
        "    # yyのデータ構造: torch.Size([64])\n",
        "    y_pred = net(xx)\n",
        "    loss = loss_function(y_pred, yy)\n",
        "    optimizer.zero_grad()\n",
        "    loss.backward()\n",
        "    optimizer.step()\n",
        "    running_loss += loss.item()\n",
        "  losses.append(running_loss)\n",
        "\n",
        "%matplotlib inline\n",
        "import matplotlib.pyplot as plt\n",
        "plt.plot(losses)\n"
      ],
      "execution_count": 21,
      "outputs": [
        {
          "output_type": "execute_result",
          "data": {
            "text/plain": [
              "[<matplotlib.lines.Line2D at 0x7feece27d160>]"
            ]
          },
          "metadata": {
            "tags": []
          },
          "execution_count": 21
        },
        {
          "output_type": "display_data",
          "data": {
            "image/png": "[encoded data removed]",
            "text/plain": [
              "<Figure size 432x288 with 1 Axes>"
            ]
          },
          "metadata": {
            "tags": [],
            "needs_background": "light"
          }
        }
      ]
    },
    {
      "cell_type": "code",
      "metadata": {
        "id": "_WOVmaXgnK_t",
        "colab_type": "code",
        "colab": {}
      },
      "source": [
        ""
      ],
      "execution_count": null,
      "outputs": []
    },
    {
      "cell_type": "code",
      "metadata": {
        "id": "VZM2aihQnLOn",
        "colab_type": "code",
        "colab": {}
      },
      "source": [
        ""
      ],
      "execution_count": null,
      "outputs": []
    }
  ]
}