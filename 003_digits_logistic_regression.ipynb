{
  "nbformat": 4,
  "nbformat_minor": 0,
  "metadata": {
    "colab": {
      "name": "003_digits_logistic_regression.ipynb",
      "provenance": [],
      "collapsed_sections": [],
      "authorship_tag": "ABX9TyOnvxpOI5Vg3iLioMCJ2zPp",
      "include_colab_link": true
    },
    "kernelspec": {
      "name": "python3",
      "display_name": "Python 3"
    },
    "accelerator": "GPU"
  },
  "cells": [
    {
      "cell_type": "markdown",
      "metadata": {
        "id": "view-in-github",
        "colab_type": "text"
      },
      "source": [
        "<a href=\"https://colab.research.google.com/github/AtaruOhto/pytorch_learning/blob/master/003_digits_logistic_regression.ipynb\" target=\"_parent\"><img src=\"https://colab.research.google.com/assets/colab-badge.svg\" alt=\"Open In Colab\"/></a>"
      ]
    },
    {
      "cell_type": "code",
      "metadata": {
        "id": "s2_WQbMj85Cf",
        "colab_type": "code",
        "colab": {
          "base_uri": "https://localhost:8080/",
          "height": 301
        },
        "outputId": "db391a74-86c3-4e28-b358-b8074a90f117"
      },
      "source": [
        "\"\"\"\n",
        "# ロジスティック回帰\n",
        "0から9までの10個の手書き文字の分類\n",
        "# 参照: https://www.shoeisha.co.jp/book/detail/9784798157184\n",
        "\"\"\"\n",
        "\n",
        "import torch\n",
        "from torch import nn, optim\n",
        "\n",
        "from sklearn.datasets import load_digits\n",
        "\n",
        "# https://scikit-learn.org/stable/modules/generated/sklearn.datasets.load_digits.html\n",
        "# 0から9までの10個の手書き文字のデータをロードする\n",
        "digits = load_digits()\n",
        "\n",
        "\n",
        "X = digits.data\n",
        "y = digits.target\n",
        "\n",
        "# データ データ形式: torch.Size([1797, 64]) GPUで実行\n",
        "X = torch.tensor(X, dtype=torch.float32).to(\"cuda:0\")\n",
        "\n",
        "\n",
        "# 正解 データ形式: torch.Size([1797]) GPUで実行\n",
        "y = torch.tensor(y, dtype=torch.int64).to(\"cuda:0\")\n",
        "\n",
        "# yは右記の10通り: {0, 1, 2, 3, 4, 5, 6, 7, 8, 9} GPUで実行\n",
        "net = nn.Linear(X.size()[1], len(set(y.tolist()))).to(\"cuda:0\")\n",
        "\n",
        "loss_function = nn.CrossEntropyLoss()\n",
        "\n",
        "\n",
        "optimizer = optim.Adam(net.parameters(), lr=0.01)\n",
        "losses = []\n",
        "\n",
        "for _ in range(50):\n",
        "  optimizer.zero_grad()\n",
        "  y_pred = net(X)\n",
        "  loss = loss_function(y_pred, y)\n",
        "  loss.backward()\n",
        "  optimizer.step()\n",
        "  losses.append(loss.item())\n",
        "  \n",
        "_, y_pred = torch.max(net(X), 1)\n",
        "accuracy_score = (y_pred == y).sum().item() / len(y)\n",
        "print(\"正解率\", int(accuracy_score * 100), \"%\")\n",
        "\n",
        "%matplotlib inline\n",
        "from matplotlib import pyplot as plt\n",
        "plt.plot(losses)"
      ],
      "execution_count": 7,
      "outputs": [
        {
          "output_type": "stream",
          "text": [
            "正解率 95 %\n"
          ],
          "name": "stdout"
        },
        {
          "output_type": "execute_result",
          "data": {
            "text/plain": [
              "[<matplotlib.lines.Line2D at 0x7f629e555f98>]"
            ]
          },
          "metadata": {
            "tags": []
          },
          "execution_count": 7
        },
        {
          "output_type": "display_data",
          "data": {
            "image/png": "[encoded data removed]",
            "text/plain": [
              "<Figure size 432x288 with 1 Axes>"
            ]
          },
          "metadata": {
            "tags": [],
            "needs_background": "light"
          }
        }
      ]
    }
  ]
}