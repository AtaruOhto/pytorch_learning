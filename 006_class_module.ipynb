{
  "nbformat": 4,
  "nbformat_minor": 0,
  "metadata": {
    "colab": {
      "name": "006_class_module.ipynb",
      "provenance": [],
      "collapsed_sections": [],
      "authorship_tag": "ABX9TyPHODigcMm0rZ7HZduoI0Df",
      "include_colab_link": true
    },
    "kernelspec": {
      "name": "python3",
      "display_name": "Python 3"
    }
  },
  "cells": [
    {
      "cell_type": "markdown",
      "metadata": {
        "id": "view-in-github",
        "colab_type": "text"
      },
      "source": [
        "<a href=\"https://colab.research.google.com/github/AtaruOhto/pytorch_learning/blob/master/006_class_module.ipynb\" target=\"_parent\"><img src=\"https://colab.research.google.com/assets/colab-badge.svg\" alt=\"Open In Colab\"/></a>"
      ]
    },
    {
      "cell_type": "code",
      "metadata": {
        "id": "D5UXRHkZIQmt",
        "colab_type": "code",
        "colab": {
          "base_uri": "https://localhost:8080/",
          "height": 413
        },
        "outputId": "3e7c8ae8-e010-435f-8515-e3df80af94bf"
      },
      "source": [
        "\"\"\"\n",
        "ネットワークのモジュール化\n",
        "\n",
        "クラスとして、ニューラルネットワークを定義する\n",
        "参考: https://www.shoeisha.co.jp/book/detail/9784798157184\n",
        "\"\"\"\n",
        "\n",
        "import torch\n",
        "from torch import nn\n",
        "\n",
        "# nn.Moduleを継承したクラスを定義する\n",
        "class MyLinear(nn.Module):\n",
        "  def __init__(self, in_features, out_features, bias=True, p=0.5):\n",
        "    super().__init__()\n",
        "    self.linear = nn.Linear(\n",
        "        in_features,\n",
        "        out_features,\n",
        "        bias\n",
        "    )\n",
        "    self.relu = nn.ReLU()\n",
        "    self.drop = nn.Dropout(p)\n",
        "\n",
        "  # forwardメソッドを実装することで、PyTorchの自動微分が有効になる。\n",
        "  # 内部でforwardを呼び出す。 https://github.com/pytorch/pytorch/blob/v1.3.0/torch/nn/modules/module.py#L531\n",
        "  def forward(self, x):\n",
        "    x = self.linear(x)\n",
        "    x = self.relu(x)\n",
        "    x = self.drop(x)\n",
        "    return x\n",
        "\n",
        "class MyMLP(nn.Module):\n",
        "  def __init__(self, in_features, out_features):\n",
        "    super().__init__()\n",
        "    self.ln1 = MyLinear(in_features, 200)\n",
        "    self.ln2 = MyLinear(200, 200)\n",
        "    self.ln3 = MyLinear(200, 200)\n",
        "    self.ln4 = MyLinear(200, out_features)\n",
        "\n",
        "  def forward(self, x):\n",
        "    x = self.ln1(x)\n",
        "    x = self.ln2(x)\n",
        "    x = self.ln3(x)\n",
        "    x = self.ln4(x)\n",
        "    return x\n",
        "\n",
        "mlp = MyMLP(64, 10)\n",
        "print(mlp)"
      ],
      "execution_count": 10,
      "outputs": [
        {
          "output_type": "stream",
          "text": [
            "MyMLP(\n",
            "  (ln1): MyLinear(\n",
            "    (linear): Linear(in_features=64, out_features=200, bias=True)\n",
            "    (relu): ReLU()\n",
            "    (drop): Dropout(p=0.5, inplace=False)\n",
            "  )\n",
            "  (ln2): MyLinear(\n",
            "    (linear): Linear(in_features=200, out_features=200, bias=True)\n",
            "    (relu): ReLU()\n",
            "    (drop): Dropout(p=0.5, inplace=False)\n",
            "  )\n",
            "  (ln3): MyLinear(\n",
            "    (linear): Linear(in_features=200, out_features=200, bias=True)\n",
            "    (relu): ReLU()\n",
            "    (drop): Dropout(p=0.5, inplace=False)\n",
            "  )\n",
            "  (ln4): MyLinear(\n",
            "    (linear): Linear(in_features=200, out_features=10, bias=True)\n",
            "    (relu): ReLU()\n",
            "    (drop): Dropout(p=0.5, inplace=False)\n",
            "  )\n",
            ")\n"
          ],
          "name": "stdout"
        }
      ]
    },
    {
      "cell_type": "code",
      "metadata": {
        "id": "Ts0mjXH-RaxV",
        "colab_type": "code",
        "colab": {}
      },
      "source": [
        ""
      ],
      "execution_count": null,
      "outputs": []
    }
  ]
}