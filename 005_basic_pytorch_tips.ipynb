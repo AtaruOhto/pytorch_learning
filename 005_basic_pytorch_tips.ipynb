{
  "nbformat": 4,
  "nbformat_minor": 0,
  "metadata": {
    "colab": {
      "name": "005_basic_pytorch_tips.ipynb",
      "provenance": [],
      "collapsed_sections": [],
      "authorship_tag": "ABX9TyPG9B3ri9tkvZJVPg8PZOeM",
      "include_colab_link": true
    },
    "kernelspec": {
      "name": "python3",
      "display_name": "Python 3"
    }
  },
  "cells": [
    {
      "cell_type": "markdown",
      "metadata": {
        "id": "view-in-github",
        "colab_type": "text"
      },
      "source": [
        "<a href=\"https://colab.research.google.com/github/AtaruOhto/pytorch_learning/blob/master/005_basic_pytorch_tips.ipynb\" target=\"_parent\"><img src=\"https://colab.research.google.com/assets/colab-badge.svg\" alt=\"Open In Colab\"/></a>"
      ]
    },
    {
      "cell_type": "code",
      "metadata": {
        "id": "IrNDQH5MpR3y",
        "colab_type": "code",
        "colab": {
          "base_uri": "https://localhost:8080/",
          "height": 283
        },
        "outputId": "34a5dcf0-79ab-4c74-e4d9-9aac4f60cbc8"
      },
      "source": [
        "\"\"\"\n",
        "ニューラルネットワークを深くすればするほど、表現力は高まるが、過学習しやすくなってしまう。\n",
        "\n",
        "参考: https://www.shoeisha.co.jp/book/detail/9784798157184\n",
        "\"\"\"\n",
        "\n",
        "import torch\n",
        "from torch import nn, optim\n",
        "from  torch.utils.data import TensorDataset, DataLoader\n",
        "from sklearn.datasets import load_digits\n",
        "from sklearn.model_selection import train_test_split\n",
        "\n",
        "\n",
        "digits = load_digits()\n",
        "X = digits.data\n",
        "Y = digits.target\n",
        "\n",
        "# 20%をテスト用に。残りのデータを学習用に用いる。\n",
        "X_train, X_test, Y_train, Y_test = train_test_split(X, Y, test_size= 0.2)\n",
        "\n",
        "X_train = torch.tensor(X_train, dtype=torch.float32)\n",
        "Y_train = torch.tensor(Y_train, dtype=torch.int64)\n",
        "X_test = torch.tensor(X_test, dtype=torch.float32)\n",
        "Y_test = torch.tensor(Y_test, dtype=torch.int64)\n",
        "\n",
        "d = 100\n",
        "\n",
        "net = nn.Sequential(\n",
        "    nn.Linear(64, d),\n",
        "    nn.ReLU(),\n",
        "    nn.Linear(d, d),\n",
        "    nn.ReLU(),    \n",
        "    nn.Linear(d, d),\n",
        "    nn.ReLU(),\n",
        "    nn.Linear(d, d),\n",
        "    nn.ReLU(),\n",
        "    nn.Linear(d, 10)\n",
        ")\n",
        "\n",
        "loss_function = nn.CrossEntropyLoss()\n",
        "optimizer = optim.Adam(net.parameters())\n",
        "\n",
        "data_set = TensorDataset(X_train, Y_train)\n",
        "\n",
        "loader = DataLoader(data_set, batch_size=32, shuffle=True)\n",
        "\n",
        "train_losses = []\n",
        "test_losses = []\n",
        "\n",
        "for _ in range(100):\n",
        "  running_loss = 0.0\n",
        "  for i, (xx, yy) in enumerate(loader):\n",
        "    y_pred = net(xx)\n",
        "    loss = loss_function(y_pred, yy)\n",
        "    optimizer.zero_grad()\n",
        "    loss.backward()\n",
        "    optimizer.step()\n",
        "    running_loss += loss.item()\n",
        "\n",
        "  train_losses.append(running_loss / i)\n",
        "  y_pred = net(X_test)\n",
        "  test_loss = loss_function(y_pred, Y_test)\n",
        "  test_losses.append(test_loss.item())\n",
        "\n",
        "%matplotlib inline\n",
        "import matplotlib.pyplot as plt\n",
        "plt.plot(train_losses, label=\"Train\")\n",
        "plt.plot(test_losses, label=\"Test\")\n",
        "plt.legend(loc='upper right')\n"
      ],
      "execution_count": 27,
      "outputs": [
        {
          "output_type": "execute_result",
          "data": {
            "text/plain": [
              "<matplotlib.legend.Legend at 0x7f603cd2d898>"
            ]
          },
          "metadata": {
            "tags": []
          },
          "execution_count": 27
        },
        {
          "output_type": "display_data",
          "data": {
            "image/png": "[encoded data removed]",
            "text/plain": [
              "<Figure size 432x288 with 1 Axes>"
            ]
          },
          "metadata": {
            "tags": [],
            "needs_background": "light"
          }
        }
      ]
    },
    {
      "cell_type": "code",
      "metadata": {
        "id": "Cx0J2Lix6hVd",
        "colab_type": "code",
        "colab": {
          "base_uri": "https://localhost:8080/",
          "height": 283
        },
        "outputId": "91e5b02d-7dd8-491d-acb3-8d7befa237d2"
      },
      "source": [
        "\"\"\"\n",
        "Dropout\n",
        "\n",
        "問題: モデルの表現力が高すぎて過学習が起きてしまう。\n",
        "方策: Dropoutでモデルの表現力を抑制する。\n",
        "\n",
        "PyTorchの訓練モードと検証モード\n",
        "\"\"\"\n",
        "\n",
        "import torch\n",
        "from torch import nn, optim\n",
        "from  torch.utils.data import TensorDataset, DataLoader\n",
        "from sklearn.datasets import load_digits\n",
        "from sklearn.model_selection import train_test_split\n",
        "\n",
        "\n",
        "digits = load_digits()\n",
        "X = digits.data\n",
        "Y = digits.target\n",
        "\n",
        "# 20%をテスト用に。残りのデータを学習用に用いる。\n",
        "X_train, X_test, Y_train, Y_test = train_test_split(X, Y, test_size= 0.2)\n",
        "\n",
        "X_train = torch.tensor(X_train, dtype=torch.float32)\n",
        "Y_train = torch.tensor(Y_train, dtype=torch.int64)\n",
        "X_test = torch.tensor(X_test, dtype=torch.float32)\n",
        "Y_test = torch.tensor(Y_test, dtype=torch.int64)\n",
        "\n",
        "d = 100\n",
        "\n",
        "# Dropoutを適用して、幾つかのユニットをランダムで使用しないことにより、モデルの表現力を抑制する。\n",
        "model = nn.Sequential(\n",
        "    nn.Linear(64, d),\n",
        "    nn.ReLU(),\n",
        "    # ユニットを使用しない確率: 50%\n",
        "    nn.Dropout(0.5),\n",
        "    nn.Linear(d, d),\n",
        "    nn.ReLU(), \n",
        "    # ユニットを使用しない確率: 50%\n",
        "    nn.Dropout(0.5),\n",
        "    nn.Linear(d, d),\n",
        "    nn.ReLU(),\n",
        "    # ユニットを使用しない確率: 50%\n",
        "    nn.Dropout(0.5),    \n",
        "    nn.Linear(d, d),\n",
        "    nn.ReLU(),\n",
        "    # ユニットを使用しない確率: 50%\n",
        "    nn.Dropout(0.5),    \n",
        "    nn.Linear(d, 10)\n",
        ")\n",
        "\n",
        "loss_function = nn.CrossEntropyLoss()\n",
        "optimizer = optim.Adam(model.parameters())\n",
        "\n",
        "data_set = TensorDataset(X_train, Y_train)\n",
        "\n",
        "loader = DataLoader(data_set, batch_size=32, shuffle=True)\n",
        "\n",
        "train_losses = []\n",
        "test_losses = []\n",
        "\n",
        "for _ in range(100):\n",
        "  running_loss = 0.0\n",
        "  # ニューラルネットワークを訓練モードにする\n",
        "  model.train()\n",
        "  for i, (xx, yy) in enumerate(loader):\n",
        "    y_pred = model(xx)\n",
        "    loss = loss_function(y_pred, yy)\n",
        "    optimizer.zero_grad()\n",
        "    loss.backward()\n",
        "    optimizer.step()\n",
        "    running_loss += loss.item()\n",
        "  train_losses.append(running_loss / i)\n",
        "\n",
        "  # ニューラルネットワークを検証モードにする\n",
        "  # https://stackoverflow.com/questions/53879727/pytorch-how-to-deactivate-dropout-in-evaluation-mode\n",
        "  # Dropoutを検証時に無効化する。(モデルの訓練時のみDropoutを発動させる。)\n",
        "  model.eval()  \n",
        "  y_pred = model(X_test)\n",
        "  test_loss = loss_function(y_pred, Y_test)\n",
        "  test_losses.append(test_loss.item())\n",
        "\n",
        "%matplotlib inline\n",
        "import matplotlib.pyplot as plt\n",
        "plt.plot(train_losses, label=\"Train\")\n",
        "plt.plot(test_losses, label=\"Test\")\n",
        "plt.legend(loc='upper right')\n"
      ],
      "execution_count": 38,
      "outputs": [
        {
          "output_type": "execute_result",
          "data": {
            "text/plain": [
              "<matplotlib.legend.Legend at 0x7f603ac3ac88>"
            ]
          },
          "metadata": {
            "tags": []
          },
          "execution_count": 38
        },
        {
          "output_type": "display_data",
          "data": {
            "image/png": "[encoded data removed]",
            "text/plain": [
              "<Figure size 432x288 with 1 Axes>"
            ]
          },
          "metadata": {
            "tags": [],
            "needs_background": "light"
          }
        }
      ]
    },
    {
      "cell_type": "code",
      "metadata": {
        "id": "anin1tqYAGIJ",
        "colab_type": "code",
        "colab": {
          "base_uri": "https://localhost:8080/",
          "height": 283
        },
        "outputId": "f4831661-7bd4-47f6-e455-354cbf5162dd"
      },
      "source": [
        "\"\"\"\n",
        "Batch Normalization\n",
        "\n",
        "問題: 事前にデータを正規化(「平均が0、分散が1になるようにデータを整える」)しても学習が進んでいくにつれ、ニューラルネットワークを進むにつれてどんどんデータの分布がバラけてくる。そうしてくると、学習が不安定になりやすい。\n",
        "方策: Batch Normalizationで学習を安定化・高速化させる\n",
        "\"\"\"\n",
        "\n",
        "\"\"\"\n",
        "Dropout\n",
        "\n",
        "問題: モデルの表現力が高すぎて過学習が起きてしまう。\n",
        "方策: Dropoutでモデルの表現力を抑制する。\n",
        "\n",
        "PyTorchの訓練モードと検証モード\n",
        "\"\"\"\n",
        "\n",
        "\n",
        "\n",
        "import torch\n",
        "from torch import nn, optim\n",
        "from  torch.utils.data import TensorDataset, DataLoader\n",
        "from sklearn.datasets import load_digits\n",
        "from sklearn.model_selection import train_test_split\n",
        "\n",
        "\n",
        "digits = load_digits()\n",
        "X = digits.data\n",
        "Y = digits.target\n",
        "\n",
        "# 20%をテスト用に。残りのデータを学習用に用いる。\n",
        "X_train, X_test, Y_train, Y_test = train_test_split(X, Y, test_size= 0.2)\n",
        "\n",
        "X_train = torch.tensor(X_train, dtype=torch.float32)\n",
        "Y_train = torch.tensor(Y_train, dtype=torch.int64)\n",
        "X_test = torch.tensor(X_test, dtype=torch.float32)\n",
        "Y_test = torch.tensor(Y_test, dtype=torch.int64)\n",
        "\n",
        "d = 100\n",
        "\n",
        "# 訓練データと予測データの入力の分布に乖離があり、モデルがうまく対応できなくなる問題に対応\n",
        "model = nn.Sequential(\n",
        "    nn.Linear(64, d),\n",
        "    nn.ReLU(),\n",
        "    # Batch Normalization\n",
        "    nn.BatchNorm1d(d),\n",
        "    nn.Linear(d, d),\n",
        "    nn.ReLU(), \n",
        "    # Batch Normalization\n",
        "    nn.BatchNorm1d(d),\n",
        "    nn.Linear(d, d),\n",
        "    nn.ReLU(),\n",
        "    # Batch Normalization\n",
        "    nn.BatchNorm1d(d),  \n",
        "    nn.Linear(d, d),\n",
        "    nn.ReLU(),\n",
        "    # Batch Normalization\n",
        "    nn.BatchNorm1d(d),  \n",
        "    nn.Linear(d, 10)\n",
        ")\n",
        "\n",
        "loss_function = nn.CrossEntropyLoss()\n",
        "optimizer = optim.Adam(model.parameters())\n",
        "\n",
        "data_set = TensorDataset(X_train, Y_train)\n",
        "\n",
        "loader = DataLoader(data_set, batch_size=32, shuffle=True)\n",
        "\n",
        "train_losses = []\n",
        "test_losses = []\n",
        "\n",
        "for _ in range(100):\n",
        "  running_loss = 0.0\n",
        "  # ニューラルネットワークを訓練モードにする\n",
        "  model.train()\n",
        "  for i, (xx, yy) in enumerate(loader):\n",
        "    y_pred = model(xx)\n",
        "    loss = loss_function(y_pred, yy)\n",
        "    optimizer.zero_grad()\n",
        "    loss.backward()\n",
        "    optimizer.step()\n",
        "    running_loss += loss.item()\n",
        "  train_losses.append(running_loss / i)\n",
        "\n",
        "  # ニューラルネットワークを検証モードにする\n",
        "  # Dropoutと同じく 訓練時のみBatch Normalizationを発動させる。\n",
        "  model.eval()  \n",
        "  y_pred = model(X_test)\n",
        "  test_loss = loss_function(y_pred, Y_test)\n",
        "  test_losses.append(test_loss.item())\n",
        "\n",
        "%matplotlib inline\n",
        "import matplotlib.pyplot as plt\n",
        "plt.plot(train_losses, label=\"Train\")\n",
        "plt.plot(test_losses, label=\"Test\")\n",
        "plt.legend(loc='upper right')\n",
        "\n",
        "\n",
        "\n"
      ],
      "execution_count": 42,
      "outputs": [
        {
          "output_type": "execute_result",
          "data": {
            "text/plain": [
              "<matplotlib.legend.Legend at 0x7f603acad8d0>"
            ]
          },
          "metadata": {
            "tags": []
          },
          "execution_count": 42
        },
        {
          "output_type": "display_data",
          "data": {
            "image/png": "[encoded data removed]",
            "text/plain": [
              "<Figure size 432x288 with 1 Axes>"
            ]
          },
          "metadata": {
            "tags": [],
            "needs_background": "light"
          }
        }
      ]
    }
  ]
}